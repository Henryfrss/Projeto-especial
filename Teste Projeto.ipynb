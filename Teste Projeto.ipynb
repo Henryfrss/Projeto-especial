{
 "cells": [
  {
   "cell_type": "markdown",
   "id": "f8498480",
   "metadata": {},
   "source": [
    "\n",
    "# Projeto Especial - Segmentação de clientes\n",
    "\n",
    "#### Henry Frederick Ridwan Surjadi, Tiago Sessa Brioschi e Victor Sampaio Monteiro\n",
    "\n",
    "#### 17 de Novembro de 2021\n"
   ]
  },
  {
   "cell_type": "markdown",
   "id": "b3253d3b",
   "metadata": {},
   "source": [
    "## README\n",
    "* Esse projeto irá apresentar como...................\n"
   ]
  },
  {
   "cell_type": "markdown",
   "id": "2cab5211",
   "metadata": {},
   "source": [
    "## Structure of a Data Analysis - FUTURO Summary\n",
    "* The steps in a data analysis:\n",
    "+ [Defining the question](#css_1)\n",
    "+ [Defining the ideal dataset](#css_2)\n",
    "+ [Determining what data you can access](#css_3)\n",
    "+ [Obtaining the data](#css_4)\n",
    "+ [Cleaning the data](#css_5)\n",
    "+ [Exploratory data analysis](#css_6)\n",
    "+ [Statistical prediction/modeling](#css_7)\n",
    "+ [Interpretation of results](#css_8)\n",
    "+ [Challenging of results](#css_9)\n",
    "+ [Creating reproducible code](#css_10)"
   ]
  },
  {
   "cell_type": "markdown",
   "id": "254cd7c3",
   "metadata": {},
   "source": [
    "## The Question - A Pergunta\n",
    "\n",
    "Será possível criar uma estratégia de marketing a partir da análise qualitativa e quantitativa dos dados de um respectivo shopping?"
   ]
  },
  {
   "cell_type": "markdown",
   "id": "99a934b9",
   "metadata": {},
   "source": [
    "## The Dataset - o Banco de Dados\n",
    "Dados obtidos no site Kaggle que é uma comunidade online de cientistas de dados e praticantes de aprendizagem de máquina que fornece datasets para estudo.\n",
    "\n",
    "O link do dataset é ...Exemplo <https://github.com/adam-p/markdown-here/wiki/Markdown-Cheatsheet#html>\n",
    "\n",
    "O dataset possui os seguintes dados:\n",
    "1. **CustomerID**: Id do cliente.\n",
    "2. **Genre**: Sexo do cliente.\n",
    "3. **Age**: Idade do cliente.\n",
    "4. **Annual Income(k$)**: Salário anual do cliente.\n",
    "5. **Spending Score(1-100)**: Um score dado a um cliente pelas autoridades do shopping baseado na quantidade de dinheiro gasto e no comportamento do cliente."
   ]
  },
  {
   "cell_type": "markdown",
   "id": "cd5a7a21",
   "metadata": {},
   "source": [
    "## Obtaining the data - Leitura dos dados"
   ]
  },
  {
   "cell_type": "code",
   "execution_count": 43,
   "id": "97b68f95",
   "metadata": {},
   "outputs": [
    {
     "data": {
      "text/plain": [
       "(200, 4)"
      ]
     },
     "execution_count": 43,
     "metadata": {},
     "output_type": "execute_result"
    }
   ],
   "source": [
    "# Importação da Biblioteca pandas para a leitura dos dados\n",
    "import pandas as pd\n",
    "\n",
    "# Criação do dataframe df a partir do arquivo Mall_Customers.csv usando o método read_csv da biblioteca pandas\n",
    "# coloca-se o index da coluna igual a 0 devido a coluna CustomerID para melhor visualização, mas não é obrigatório\n",
    "df = pd.read_csv(\"Mall_Customers.csv\", index_col=0)\n",
    "\n",
    "# Verificando a estrutura do dataset\n",
    "df.shape"
   ]
  },
  {
   "cell_type": "markdown",
   "metadata": {},
   "source": [
    "O data set apresenta uma *structure* de 4 variáveis com 200 observações"
   ]
  },
  {
   "cell_type": "code",
   "execution_count": 34,
   "id": "afc4cf33",
   "metadata": {},
   "outputs": [
    {
     "data": {
      "text/plain": [
       "Genre                     object\n",
       "Age                        int64\n",
       "Annual Income (k$)         int64\n",
       "Spending Score (1-100)     int64\n",
       "dtype: object"
      ]
     },
     "execution_count": 34,
     "metadata": {},
     "output_type": "execute_result"
    }
   ],
   "source": [
    "# Verificando os tipos dos dados\n",
    "df.dtypes"
   ]
  },
  {
   "cell_type": "markdown",
   "id": "52c0649d",
   "metadata": {},
   "source": [
    "# Cleaning the data - Limpando os dados"
   ]
  },
  {
   "cell_type": "code",
   "execution_count": 46,
   "id": "37292760",
   "metadata": {},
   "outputs": [
    {
     "data": {
      "text/plain": [
       "Genre                     0\n",
       "Age                       0\n",
       "Annual Income (k$)        0\n",
       "Spending Score (1-100)    0\n",
       "dtype: int64"
      ]
     },
     "execution_count": 46,
     "metadata": {},
     "output_type": "execute_result"
    }
   ],
   "source": [
    "# Verificar se existe Valor Nulo\n",
    "df.isnull().sum()"
   ]
  },
  {
   "cell_type": "markdown",
   "id": "e2c5a2f5",
   "metadata": {},
   "source": [
    "# Exploratory Data Analysis - Explorando os Dados"
   ]
  },
  {
   "cell_type": "code",
   "execution_count": 21,
   "id": "c144fb11",
   "metadata": {},
   "outputs": [
    {
     "data": {
      "text/html": [
       "<div>\n",
       "<style scoped>\n",
       "    .dataframe tbody tr th:only-of-type {\n",
       "        vertical-align: middle;\n",
       "    }\n",
       "\n",
       "    .dataframe tbody tr th {\n",
       "        vertical-align: top;\n",
       "    }\n",
       "\n",
       "    .dataframe thead th {\n",
       "        text-align: right;\n",
       "    }\n",
       "</style>\n",
       "<table border=\"1\" class=\"dataframe\">\n",
       "  <thead>\n",
       "    <tr style=\"text-align: right;\">\n",
       "      <th></th>\n",
       "      <th>Genre</th>\n",
       "      <th>Age</th>\n",
       "      <th>Annual Income (k$)</th>\n",
       "      <th>Spending Score (1-100)</th>\n",
       "    </tr>\n",
       "    <tr>\n",
       "      <th>CustomerID</th>\n",
       "      <th></th>\n",
       "      <th></th>\n",
       "      <th></th>\n",
       "      <th></th>\n",
       "    </tr>\n",
       "  </thead>\n",
       "  <tbody>\n",
       "    <tr>\n",
       "      <th>1</th>\n",
       "      <td>Male</td>\n",
       "      <td>19</td>\n",
       "      <td>15</td>\n",
       "      <td>39</td>\n",
       "    </tr>\n",
       "    <tr>\n",
       "      <th>2</th>\n",
       "      <td>Male</td>\n",
       "      <td>21</td>\n",
       "      <td>15</td>\n",
       "      <td>81</td>\n",
       "    </tr>\n",
       "    <tr>\n",
       "      <th>3</th>\n",
       "      <td>Female</td>\n",
       "      <td>20</td>\n",
       "      <td>16</td>\n",
       "      <td>6</td>\n",
       "    </tr>\n",
       "    <tr>\n",
       "      <th>4</th>\n",
       "      <td>Female</td>\n",
       "      <td>23</td>\n",
       "      <td>16</td>\n",
       "      <td>77</td>\n",
       "    </tr>\n",
       "    <tr>\n",
       "      <th>5</th>\n",
       "      <td>Female</td>\n",
       "      <td>31</td>\n",
       "      <td>17</td>\n",
       "      <td>40</td>\n",
       "    </tr>\n",
       "  </tbody>\n",
       "</table>\n",
       "</div>"
      ],
      "text/plain": [
       "             Genre  Age  Annual Income (k$)  Spending Score (1-100)\n",
       "CustomerID                                                         \n",
       "1             Male   19                  15                      39\n",
       "2             Male   21                  15                      81\n",
       "3           Female   20                  16                       6\n",
       "4           Female   23                  16                      77\n",
       "5           Female   31                  17                      40"
      ]
     },
     "execution_count": 21,
     "metadata": {},
     "output_type": "execute_result"
    }
   ],
   "source": [
    "# Através do método head, faz a leitura das primeiras linhas do data frame df\n",
    "df.head()"
   ]
  },
  {
   "cell_type": "code",
   "execution_count": 56,
   "id": "b78833f2-60cc-4ae1-a6f0-3dfbae8d40da",
   "metadata": {},
   "outputs": [
    {
     "data": {
      "text/html": [
       "<div>\n",
       "<style scoped>\n",
       "    .dataframe tbody tr th:only-of-type {\n",
       "        vertical-align: middle;\n",
       "    }\n",
       "\n",
       "    .dataframe tbody tr th {\n",
       "        vertical-align: top;\n",
       "    }\n",
       "\n",
       "    .dataframe thead th {\n",
       "        text-align: right;\n",
       "    }\n",
       "</style>\n",
       "<table border=\"1\" class=\"dataframe\">\n",
       "  <thead>\n",
       "    <tr style=\"text-align: right;\">\n",
       "      <th></th>\n",
       "      <th>Genre</th>\n",
       "      <th>Age</th>\n",
       "      <th>Annual Income (k$)</th>\n",
       "      <th>Spending Score (1-100)</th>\n",
       "    </tr>\n",
       "    <tr>\n",
       "      <th>CustomerID</th>\n",
       "      <th></th>\n",
       "      <th></th>\n",
       "      <th></th>\n",
       "      <th></th>\n",
       "    </tr>\n",
       "  </thead>\n",
       "  <tbody>\n",
       "    <tr>\n",
       "      <th>196</th>\n",
       "      <td>Female</td>\n",
       "      <td>35</td>\n",
       "      <td>120</td>\n",
       "      <td>79</td>\n",
       "    </tr>\n",
       "    <tr>\n",
       "      <th>197</th>\n",
       "      <td>Female</td>\n",
       "      <td>45</td>\n",
       "      <td>126</td>\n",
       "      <td>28</td>\n",
       "    </tr>\n",
       "    <tr>\n",
       "      <th>198</th>\n",
       "      <td>Male</td>\n",
       "      <td>32</td>\n",
       "      <td>126</td>\n",
       "      <td>74</td>\n",
       "    </tr>\n",
       "    <tr>\n",
       "      <th>199</th>\n",
       "      <td>Male</td>\n",
       "      <td>32</td>\n",
       "      <td>137</td>\n",
       "      <td>18</td>\n",
       "    </tr>\n",
       "    <tr>\n",
       "      <th>200</th>\n",
       "      <td>Male</td>\n",
       "      <td>30</td>\n",
       "      <td>137</td>\n",
       "      <td>83</td>\n",
       "    </tr>\n",
       "  </tbody>\n",
       "</table>\n",
       "</div>"
      ],
      "text/plain": [
       "             Genre  Age  Annual Income (k$)  Spending Score (1-100)\n",
       "CustomerID                                                         \n",
       "196         Female   35                 120                      79\n",
       "197         Female   45                 126                      28\n",
       "198           Male   32                 126                      74\n",
       "199           Male   32                 137                      18\n",
       "200           Male   30                 137                      83"
      ]
     },
     "execution_count": 56,
     "metadata": {},
     "output_type": "execute_result"
    }
   ],
   "source": [
    "# Através do método tail, faz a leitura das ultimas linhas do data frame df\n",
    "df.tail()"
   ]
  },
  {
   "cell_type": "code",
   "execution_count": 42,
   "id": "9613f643",
   "metadata": {},
   "outputs": [
    {
     "data": {
      "text/html": [
       "<div>\n",
       "<style scoped>\n",
       "    .dataframe tbody tr th:only-of-type {\n",
       "        vertical-align: middle;\n",
       "    }\n",
       "\n",
       "    .dataframe tbody tr th {\n",
       "        vertical-align: top;\n",
       "    }\n",
       "\n",
       "    .dataframe thead th {\n",
       "        text-align: right;\n",
       "    }\n",
       "</style>\n",
       "<table border=\"1\" class=\"dataframe\">\n",
       "  <thead>\n",
       "    <tr style=\"text-align: right;\">\n",
       "      <th></th>\n",
       "      <th>CustomerID</th>\n",
       "      <th>Age</th>\n",
       "      <th>Annual Income (k$)</th>\n",
       "      <th>Spending Score (1-100)</th>\n",
       "    </tr>\n",
       "  </thead>\n",
       "  <tbody>\n",
       "    <tr>\n",
       "      <th>count</th>\n",
       "      <td>200.000000</td>\n",
       "      <td>200.000000</td>\n",
       "      <td>200.000000</td>\n",
       "      <td>200.000000</td>\n",
       "    </tr>\n",
       "    <tr>\n",
       "      <th>mean</th>\n",
       "      <td>100.500000</td>\n",
       "      <td>38.850000</td>\n",
       "      <td>60.560000</td>\n",
       "      <td>50.200000</td>\n",
       "    </tr>\n",
       "    <tr>\n",
       "      <th>std</th>\n",
       "      <td>57.879185</td>\n",
       "      <td>13.969007</td>\n",
       "      <td>26.264721</td>\n",
       "      <td>25.823522</td>\n",
       "    </tr>\n",
       "    <tr>\n",
       "      <th>min</th>\n",
       "      <td>1.000000</td>\n",
       "      <td>18.000000</td>\n",
       "      <td>15.000000</td>\n",
       "      <td>1.000000</td>\n",
       "    </tr>\n",
       "    <tr>\n",
       "      <th>25%</th>\n",
       "      <td>50.750000</td>\n",
       "      <td>28.750000</td>\n",
       "      <td>41.500000</td>\n",
       "      <td>34.750000</td>\n",
       "    </tr>\n",
       "    <tr>\n",
       "      <th>50%</th>\n",
       "      <td>100.500000</td>\n",
       "      <td>36.000000</td>\n",
       "      <td>61.500000</td>\n",
       "      <td>50.000000</td>\n",
       "    </tr>\n",
       "    <tr>\n",
       "      <th>75%</th>\n",
       "      <td>150.250000</td>\n",
       "      <td>49.000000</td>\n",
       "      <td>78.000000</td>\n",
       "      <td>73.000000</td>\n",
       "    </tr>\n",
       "    <tr>\n",
       "      <th>max</th>\n",
       "      <td>200.000000</td>\n",
       "      <td>70.000000</td>\n",
       "      <td>137.000000</td>\n",
       "      <td>99.000000</td>\n",
       "    </tr>\n",
       "  </tbody>\n",
       "</table>\n",
       "</div>"
      ],
      "text/plain": [
       "       CustomerID         Age  Annual Income (k$)  Spending Score (1-100)\n",
       "count  200.000000  200.000000          200.000000              200.000000\n",
       "mean   100.500000   38.850000           60.560000               50.200000\n",
       "std     57.879185   13.969007           26.264721               25.823522\n",
       "min      1.000000   18.000000           15.000000                1.000000\n",
       "25%     50.750000   28.750000           41.500000               34.750000\n",
       "50%    100.500000   36.000000           61.500000               50.000000\n",
       "75%    150.250000   49.000000           78.000000               73.000000\n",
       "max    200.000000   70.000000          137.000000               99.000000"
      ]
     },
     "execution_count": 42,
     "metadata": {},
     "output_type": "execute_result"
    }
   ],
   "source": [
    "# Entendendo os dados, calculando um resumo das estatisticas do DataFrame\n",
    "df.describe()"
   ]
  },
  {
   "cell_type": "code",
   "execution_count": 47,
   "id": "ec2d3bae",
   "metadata": {},
   "outputs": [
    {
     "data": {
      "text/plain": [
       "<function matplotlib.pyplot.show(close=None, block=None)>"
      ]
     },
     "execution_count": 47,
     "metadata": {},
     "output_type": "execute_result"
    },
    {
     "data": {
      "image/png": "[encoded data removed]",
      "text/plain": [
       "<Figure size 1080x360 with 1 Axes>"
      ]
     },
     "metadata": {
      "needs_background": "light"
     },
     "output_type": "display_data"
    }
   ],
   "source": [
    "# Importação da Biblioteca Matplotlib para a geração de gráficos\n",
    "import matplotlib.pyplot as plt\n",
    "\n",
    "# Importação da Biblioteca seaborn\n",
    "import seaborn as sns\n",
    "\n",
    "# Verificando Quantidade de Homens e Mulheres\n",
    "plt.figure(1, figsize = (15 , 5))\n",
    "sns.countplot(y = 'Genre', data = df)\n",
    "plt.show"
   ]
  },
  {
   "cell_type": "code",
   "execution_count": 48,
   "id": "feb97766",
   "metadata": {},
   "outputs": [
    {
     "data": {
      "text/plain": [
       "Female    112\n",
       "Male       88\n",
       "Name: Genre, dtype: int64"
      ]
     },
     "execution_count": 48,
     "metadata": {},
     "output_type": "execute_result"
    }
   ],
   "source": [
    "# Vericando a quantidade de Homens e Mulheres\n",
    "df[\"Genre\"].value_counts()"
   ]
  },
  {
   "cell_type": "code",
   "execution_count": 54,
   "id": "b8cc2a18",
   "metadata": {},
   "outputs": [
    {
     "data": {
      "text/plain": [
       "Female    0.56\n",
       "Male      0.44\n",
       "Name: Genre, dtype: float64"
      ]
     },
     "execution_count": 54,
     "metadata": {},
     "output_type": "execute_result"
    }
   ],
   "source": [
    "# Verifica-se a porcentagem de Homens e Mulheres\n",
    "df[\"Genre\"].value_counts(\"Porcentagem\")"
   ]
  },
  {
   "cell_type": "code",
   "execution_count": null,
   "id": "1ea924df",
   "metadata": {},
   "outputs": [],
   "source": [
    "labels = ['Female', 'Male']\n",
    "size = df['Genre'].value_counts()\n",
    "colors = [0, 0, 1]\n",
    "\n",
    "plt.rcParams['figure.figsize'] = (9,9)\n",
    "plt.pie(size, colors = colors, labels = labels, shadow = True, autopct = '%.2f%%')\n",
    "plt.tittle('Genre', fontsize = 20)\n",
    "plt.axis('off')\n",
    "plt.legend()\n",
    "plt.show()"
   ]
  },
  {
   "cell_type": "code",
   "execution_count": null,
   "id": "c35ff534",
   "metadata": {},
   "outputs": [],
   "source": [
    "if Genre == \"Male\""
   ]
  },
  {
   "cell_type": "code",
   "execution_count": null,
   "id": "cb6bfb11",
   "metadata": {},
   "outputs": [],
   "source": [
    "i = 0\n",
    "\n",
    "for i in range(df.count()): \n",
    "    i = i + 1\n",
    "    \n",
    "print(i)"
   ]
  },
  {
   "cell_type": "code",
   "execution_count": 92,
   "id": "2b1539fa-3e12-4bca-ad07-cff841b872c6",
   "metadata": {},
   "outputs": [
    {
     "data": {
      "text/plain": [
       "(200, 1)"
      ]
     },
     "execution_count": 92,
     "metadata": {},
     "output_type": "execute_result"
    }
   ],
   "source": [
    "# Criação da variável X que recebe apenas os valores colunas Annual Income e Spending Score\n",
    "X = df.iloc[:, [2, 3]].values\n"
   ]
  },
  {
   "cell_type": "code",
   "execution_count": 71,
   "id": "6fba7384-c954-404b-838b-a61d6a33ef20",
   "metadata": {},
   "outputs": [
    {
     "name": "stderr",
     "output_type": "stream",
     "text": [
      "C:\\Users\\henry\\anaconda3\\lib\\site-packages\\sklearn\\cluster\\_kmeans.py:881: UserWarning: KMeans is known to have a memory leak on Windows with MKL, when there are less chunks than available threads. You can avoid it by setting the environment variable OMP_NUM_THREADS=1.\n"
     ]
    },
    {
     "data": {
      "image/png": "[encoded data removed]",
      "text/plain": [
       "<Figure size 648x648 with 1 Axes>"
      ]
     },
     "metadata": {
      "needs_background": "light"
     },
     "output_type": "display_data"
    }
   ],
   "source": [
    "# Importando a bibliote Numpy\n",
    "import numpy as np\n",
    "\n",
    "# Importanto o método KMeans da biblioteca scikit learn\n",
    "from sklearn.cluster import KMeans\n",
    "\n",
    "# Criação de uma lista para receber as distorções\n",
    "distortions = []\n",
    "\n",
    "# Criação da variável k que recebe valores de dez clusters\n",
    "K = range(1, 10)\n",
    "\n",
    "# Loop para cálculo do modelo KMeans e suas distorções\n",
    "for k in K:\n",
    "    \n",
    "    kmeansModel = KMeans(n_clusters = k, init = 'k-means++',    random_state = 23)\n",
    "    # Treina o modelo Kmeans a partir dos dados de X\n",
    "    kmeansModel.fit(X)\n",
    "    # Adiciona as distorções na lista\n",
    "    distortions.append(kmeansModel.inertia_)\n",
    "    \n",
    "# Chamada de funções da biblioteca matplotlib para melhorar a visualização do gráfico\n",
    "plt.rc(\"font\", size=14)\n",
    "plt.plot(K, distortions)\n",
    "plt.title(\"The Elbow Method - Método Cotovelo\")\n",
    "plt.xlabel(\"Quantidade de Clusters\")\n",
    "# Sum of Squared Errors\n",
    "plt.ylabel(\"S.S.E.\")\n",
    "plt.show()"
   ]
  },
  {
   "cell_type": "markdown",
   "id": "3cfea607",
   "metadata": {},
   "source": [
    "Observando-se o gráfico resultante da aplicação do método *Elbow*, verifica-se que o número ideal de clusters a ser utilizado pela algoritmo KMeans é 5!"
   ]
  },
  {
   "cell_type": "code",
   "execution_count": 79,
   "id": "3a47d008-9261-40dc-8aac-5ec4c1ff4c42",
   "metadata": {},
   "outputs": [
    {
     "data": {
      "text/plain": [
       "array([0, 3, 0, 3, 0, 3, 0, 3, 0, 3, 0, 3, 0, 3, 0, 3, 0, 3, 0, 3, 0, 3,\n",
       "       0, 3, 0, 3, 0, 3, 0, 3, 0, 3, 0, 3, 0, 3, 0, 3, 0, 3, 0, 3, 0, 1,\n",
       "       0, 3, 1, 1, 1, 1, 1, 1, 1, 1, 1, 1, 1, 1, 1, 1, 1, 1, 1, 1, 1, 1,\n",
       "       1, 1, 1, 1, 1, 1, 1, 1, 1, 1, 1, 1, 1, 1, 1, 1, 1, 1, 1, 1, 1, 1,\n",
       "       1, 1, 1, 1, 1, 1, 1, 1, 1, 1, 1, 1, 1, 1, 1, 1, 1, 1, 1, 1, 1, 1,\n",
       "       1, 1, 1, 1, 1, 1, 1, 1, 1, 1, 1, 1, 1, 2, 4, 2, 1, 2, 4, 2, 4, 2,\n",
       "       1, 2, 4, 2, 4, 2, 4, 2, 4, 2, 1, 2, 4, 2, 4, 2, 4, 2, 4, 2, 4, 2,\n",
       "       4, 2, 4, 2, 4, 2, 4, 2, 4, 2, 4, 2, 4, 2, 4, 2, 4, 2, 4, 2, 4, 2,\n",
       "       4, 2, 4, 2, 4, 2, 4, 2, 4, 2, 4, 2, 4, 2, 4, 2, 4, 2, 4, 2, 4, 2,\n",
       "       4, 2])"
      ]
     },
     "execution_count": 79,
     "metadata": {},
     "output_type": "execute_result"
    }
   ],
   "source": [
    "# Criação da variável que irá receber o algoritmo KMeans, setando o número de clusters para 5\n",
    "kmeansModel = KMeans(n_clusters = 5, init = 'k-means++', random_state = 23)\n",
    "\n",
    "# Y recebe os valores preditos do algoritmos KMeans\n",
    "Y = kmeansModel.fit_predict(X)\n",
    "\n",
    "# Printa os valores de preditos de Y\n",
    "Y"
   ]
  },
  {
   "cell_type": "code",
   "execution_count": 95,
   "id": "ac09a0a4-97b9-43a7-bd04-e8dd48e45063",
   "metadata": {},
   "outputs": [
    {
     "ename": "TypeError",
     "evalue": "'range' object cannot be interpreted as an integer",
     "output_type": "error",
     "traceback": [
      "\u001b[1;31m---------------------------------------------------------------------------\u001b[0m",
      "\u001b[1;31mTypeError\u001b[0m                                 Traceback (most recent call last)",
      "\u001b[1;32m~\\AppData\\Local\\Temp/ipykernel_8436/77754319.py\u001b[0m in \u001b[0;36m<module>\u001b[1;34m\u001b[0m\n\u001b[0;32m      3\u001b[0m \u001b[0mplt\u001b[0m\u001b[1;33m.\u001b[0m\u001b[0mscatter\u001b[0m\u001b[1;33m(\u001b[0m\u001b[0mX\u001b[0m\u001b[1;33m[\u001b[0m\u001b[1;33m:\u001b[0m\u001b[1;33m,\u001b[0m\u001b[1;33m[\u001b[0m\u001b[1;36m1\u001b[0m\u001b[1;33m]\u001b[0m\u001b[1;33m]\u001b[0m\u001b[1;33m,\u001b[0m \u001b[0mY\u001b[0m\u001b[1;33m,\u001b[0m \u001b[0mcmap\u001b[0m\u001b[1;33m=\u001b[0m\u001b[1;34m\"plasma\"\u001b[0m\u001b[1;33m,\u001b[0m \u001b[0mlinewidths\u001b[0m\u001b[1;33m=\u001b[0m\u001b[1;36m1\u001b[0m\u001b[1;33m)\u001b[0m\u001b[1;33m;\u001b[0m\u001b[1;33m\u001b[0m\u001b[1;33m\u001b[0m\u001b[0m\n\u001b[0;32m      4\u001b[0m \u001b[1;33m\u001b[0m\u001b[0m\n\u001b[1;32m----> 5\u001b[1;33m \u001b[1;32mfor\u001b[0m \u001b[0mk\u001b[0m \u001b[1;32min\u001b[0m \u001b[0mrange\u001b[0m\u001b[1;33m(\u001b[0m\u001b[0mK\u001b[0m\u001b[1;33m)\u001b[0m\u001b[1;33m:\u001b[0m\u001b[1;33m\u001b[0m\u001b[1;33m\u001b[0m\u001b[0m\n\u001b[0m\u001b[0;32m      6\u001b[0m   \u001b[0mplt\u001b[0m\u001b[1;33m.\u001b[0m\u001b[0mscatter\u001b[0m\u001b[1;33m(\u001b[0m\u001b[0mcentroids2\u001b[0m\u001b[1;33m[\u001b[0m\u001b[0mk\u001b[0m\u001b[1;33m,\u001b[0m\u001b[1;36m0\u001b[0m\u001b[1;33m]\u001b[0m\u001b[1;33m,\u001b[0m \u001b[0mcentroids2\u001b[0m\u001b[1;33m[\u001b[0m\u001b[0mk\u001b[0m\u001b[1;33m,\u001b[0m \u001b[1;36m1\u001b[0m\u001b[1;33m]\u001b[0m\u001b[1;33m,\u001b[0m \u001b[0ms\u001b[0m\u001b[1;33m=\u001b[0m\u001b[1;36m100\u001b[0m\u001b[1;33m,\u001b[0m \u001b[0mmarker\u001b[0m\u001b[1;33m=\u001b[0m\u001b[1;34m'*'\u001b[0m\u001b[1;33m,\u001b[0m \u001b[0mcolor\u001b[0m\u001b[1;33m=\u001b[0m\u001b[1;34m'red'\u001b[0m\u001b[1;33m)\u001b[0m\u001b[1;33m\u001b[0m\u001b[1;33m\u001b[0m\u001b[0m\n\u001b[0;32m      7\u001b[0m \u001b[1;33m\u001b[0m\u001b[0m\n",
      "\u001b[1;31mTypeError\u001b[0m: 'range' object cannot be interpreted as an integer"
     ]
    },
    {
     "data": {
      "image/png": "[encoded data removed]",
      "text/plain": [
       "<Figure size 648x648 with 1 Axes>"
      ]
     },
     "metadata": {
      "needs_background": "light"
     },
     "output_type": "display_data"
    }
   ],
   "source": [
    "import plotnine as pn\n",
    "\n",
    "plt.scatter(X[:,[1]], Y, cmap=\"plasma\", linewidths=1);\n",
    "\n",
    "for k in range(K):\n",
    "  plt.scatter(centroids2[k,0], centroids2[k, 1], s=100, marker='*', color='red')\n",
    "\n",
    "plt.show()"
   ]
  },
  {
   "cell_type": "code",
   "execution_count": 100,
   "id": "8749c908-0a43-49d0-a42a-f0c0950a65ee",
   "metadata": {},
   "outputs": [
    {
     "data": {
      "text/plain": [
       "<matplotlib.collections.PathCollection at 0x1ba2fb63ac0>"
      ]
     },
     "execution_count": 100,
     "metadata": {},
     "output_type": "execute_result"
    },
    {
     "data": {
      "image/png": "[encoded data removed]",
      "text/plain": [
       "<Figure size 648x648 with 1 Axes>"
      ]
     },
     "metadata": {
      "needs_background": "light"
     },
     "output_type": "display_data"
    }
   ],
   "source": [
    "import matplotlib.pyplot as plt\n",
    "colors = np.random.rand(200)\n",
    "plt.scatter(df.iloc[:, [2]].values, df.iloc[:, [3]].values, c=colors, alpha = 0.6, s=10)\n"
   ]
  }
 ],
 "metadata": {
  "kernelspec": {
   "display_name": "Python 3",
   "language": "python",
   "name": "python3"
  },
  "language_info": {
   "codemirror_mode": {
    "name": "ipython",
    "version": 3
   },
   "file_extension": ".py",
   "mimetype": "text/x-python",
   "name": "python",
   "nbconvert_exporter": "python",
   "pygments_lexer": "ipython3",
   "version": "3.8.8"
  }
 },
 "nbformat": 4,
 "nbformat_minor": 5
}
